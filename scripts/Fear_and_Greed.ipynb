{
 "cells": [
  {
   "cell_type": "markdown",
   "metadata": {},
   "source": [
    "# Fear and Greed Index\n",
    "\n",
    "“Be fearful when others are greedy and greedy when others are fearful” - Warren Buffet.\n",
    "\n",
    "- **Extreme greed could mean investors are overbuying, pushing prices up without any fundamental reason. Thus the market could be due for a correction.**\n",
    "\n",
    "- **Extreme fear could be a buying opportunity because investors are dumping their coins out of panic, and you can get them for a bargain.**"
   ]
  },
  {
   "cell_type": "markdown",
   "metadata": {},
   "source": [
    "[Crypto Fear And Greed Index Live Today (Updated Daily)](https://mudrex.com/fear-and-greed-index)"
   ]
  },
  {
   "cell_type": "markdown",
   "metadata": {},
   "source": [
    "### **How to use the Crypto Fear and Greed Index?**\n",
    "\n",
    "The crypto market is known for its notoriously volatile behavior. This is majorly influenced by investors acting out of fear and greed. A falling market makes them fearful, resulting in panic sales, while a bull market makes them greedy, and they start accumulating.\n",
    "\n",
    "The Crypto Fear and Greed Index can be used as a market indicator to sense the broader sentiment of investors towards the overall market and make better investment decisions. Knowing the overall sentiment and emotions driving the market helps traders behave objectively and make the right choices."
   ]
  },
  {
   "cell_type": "markdown",
   "metadata": {},
   "source": [
    "### **What are market sentiment indicators for crypto?**\n",
    "\n",
    "Market sentiment indicators for crypto are tools that provide insights into the overall sentiment and emotions of market participants in Cryptocurrency space. They help investors to gauge the prevailing mood in the market, which can be valuable for decision-making. Some commonly used market sentiment indicators for Crypto are: \n",
    "\n",
    "(a) Crypto fear and greed index \n",
    "\n",
    "(b) Social Media sentiment \n",
    "\n",
    "(c) Trading volume and market depth \n",
    "\n",
    "(d) Options and Futures market"
   ]
  },
  {
   "cell_type": "markdown",
   "metadata": {},
   "source": [
    "### ****Factors that influence the Crypto Fear and Greed index****\n",
    "\n",
    "- **Volatility:** A rise in volatility is used as a sign of a fearful market.\n",
    "\n",
    "- **Dominance:** A rise in Bitcoin dominance is considered a sign of a fearful market moving to a safer asset, while a fall in Bitcoin dominance is seen as a sign the market is getting too greedy and moving to more speculative altcoins.\n",
    "\n",
    "- **Trends:** Data from Google Trends is used to see how many people are searching for information about Bitcoin. An increase in certain search terms, such as ‘Bitcoin price manipulation’ is considered a fearful signal, while ‘Bitcoin price prediction’ would be considered more bullish.\n",
    "\n",
    "- **Social media:** An unusually high interaction rate is used to identify greedy market behavior.\n",
    "\n",
    "- **Market momentum/volume:** The current market momentum is compared to the current volume. When buying volumes are outpacing the longer-term momentum, it signals the market is getting too greedy."
   ]
  },
  {
   "cell_type": "code",
   "execution_count": null,
   "metadata": {},
   "outputs": [],
   "source": []
  }
 ],
 "metadata": {
  "language_info": {
   "name": "python"
  }
 },
 "nbformat": 4,
 "nbformat_minor": 2
}
