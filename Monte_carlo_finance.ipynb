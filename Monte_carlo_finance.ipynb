{
 "cells": [
  {
   "attachments": {},
   "cell_type": "markdown",
   "metadata": {},
   "source": [
    "# Monte Carlo in Finance applications"
   ]
  },
  {
   "attachments": {},
   "cell_type": "markdown",
   "metadata": {},
   "source": [
    "Monte Carlo simulation is a widely used technique in finance for modeling and analyzing uncertainty in various financial applications. Here are a few key areas where Monte Carlo simulation is commonly employed in finance:\n",
    "\n",
    "1. Portfolio Optimization: Monte Carlo simulation can be used to simulate the future performance of different assets within a portfolio. By generating thousands or millions of possible future scenarios, it helps investors and analysts assess the risk and return characteristics of different portfolio allocations. This information can aid in optimizing the allocation of assets to achieve desired risk and return profiles.\n",
    "\n",
    "2. Option Pricing: Monte Carlo simulation is used to value options and other derivative securities. By simulating the potential price paths of the underlying asset, it estimates the expected payoff of the option. The simulation helps in calculating option prices and understanding the impact of various market factors on option values.\n",
    "\n",
    "3. Risk Management: Monte Carlo simulation is used in risk management to assess and quantify potential financial risks. It can simulate the behavior of various risk factors (e.g., interest rates, exchange rates, commodity prices) and their impact on a portfolio or financial instrument. By analyzing a large number of simulated scenarios, risk managers can estimate potential losses and calculate risk measures such as Value at Risk (VaR) or Conditional Value at Risk (CVaR).\n",
    "\n",
    "4. Financial Forecasting: Monte Carlo simulation is employed for financial forecasting by modeling different uncertain variables that impact financial outcomes. For example, it can simulate factors like sales volumes, interest rates, or exchange rates to project future financial performance and evaluate the likelihood of achieving specific financial targets.\n",
    "\n",
    "5. Credit Risk Assessment: Monte Carlo simulation is used to model and assess credit risk in lending and investment decisions. It can simulate various scenarios to estimate the probability of default, loss given default, and other credit risk metrics. This information helps lenders and investors evaluate the creditworthiness of borrowers and make informed decisions.\n",
    "\n",
    "Monte Carlo simulation in finance involves generating random samples from probability distributions and applying them to financial models to analyze outcomes and uncertainties. By running numerous simulations, it provides a statistical approach to understanding the potential range of outcomes and helps in decision-making, risk assessment, and financial planning."
   ]
  },
  {
   "attachments": {},
   "cell_type": "markdown",
   "metadata": {},
   "source": [
    "# Black-Scholes Model\n",
    "The Black-Scholes model is a widely used mathematical model for pricing options and calculating their theoretical value. Developed by economists Fisher Black and Myron Scholes in 1973, it revolutionized the field of quantitative finance. Here is a concise explanation of how the Black-Scholes model works:\n",
    "\n",
    "1. Assumptions: The model is based on certain assumptions, including the efficient market hypothesis, constant volatility of the underlying asset, risk-free interest rate, no transaction costs, and continuous trading.\n",
    "\n",
    "2. Inputs: To calculate the value of an option using the Black-Scholes model, several inputs are required:\n",
    "   - Current price of the underlying asset\n",
    "   - Strike price of the option\n",
    "   - Time to expiration of the option\n",
    "   - Risk-free interest rate\n",
    "   - Volatility of the underlying asset's returns\n",
    "\n",
    "3. Black-Scholes Formula: The model employs a partial differential equation called the Black-Scholes equation to determine the theoretical price of a European call or put option. The Black-Scholes formula for a European call option is as follows:\n",
    "\n",
    "   Call Option Price = S * N(d₁) - X * e^(-r * T) * N(d₂)\n",
    "\n",
    "   Where:\n",
    "   - S: Current price of the underlying asset\n",
    "   - N: Cumulative standard normal distribution function\n",
    "   - d₁ = (ln(S/X) + (r + (σ²/2)) * T) / (σ * sqrt(T))\n",
    "   - d₂ = d₁ - σ * sqrt(T)\n",
    "   - X: Strike price of the option\n",
    "   - r: Risk-free interest rate\n",
    "   - T: Time to expiration of the option\n",
    "   - σ: Volatility of the underlying asset's returns\n",
    "\n",
    "4. Interpretation: The Black-Scholes formula calculates the present value of the expected future payoff of the option based on the inputs provided. It considers the relationship between the strike price, the underlying asset's price, time to expiration, risk-free interest rate, and volatility to determine the fair value of the option.\n",
    "\n",
    "5. Greek Letters: The Black-Scholes model also provides insight into the sensitivity of option prices to changes in different factors, known as \"Greeks.\" The Greeks include:\n",
    "   - Delta: Measures the change in the option price relative to a change in the underlying asset's price.\n",
    "   - Gamma: Measures the rate of change of delta relative to a change in the underlying asset's price.\n",
    "   - Theta: Measures the change in the option price over time.\n",
    "   - Vega: Measures the sensitivity of the option price to changes in volatility.\n",
    "   - Rho: Measures the sensitivity of the option price to changes in the risk-free interest rate.\n",
    "\n",
    "By using the Black-Scholes model, financial professionals can estimate the fair value of options, compare them to market prices, and make informed trading decisions based on their assessment of the potential risks and rewards."
   ]
  },
  {
   "cell_type": "code",
   "execution_count": 1,
   "metadata": {},
   "outputs": [
    {
     "ename": "ModuleNotFoundError",
     "evalue": "No module named 'scipy'",
     "output_type": "error",
     "traceback": [
      "\u001b[0;31m---------------------------------------------------------------------------\u001b[0m",
      "\u001b[0;31mModuleNotFoundError\u001b[0m                       Traceback (most recent call last)",
      "Cell \u001b[0;32mIn[1], line 2\u001b[0m\n\u001b[1;32m      1\u001b[0m \u001b[39mimport\u001b[39;00m \u001b[39mmath\u001b[39;00m\n\u001b[0;32m----> 2\u001b[0m \u001b[39mfrom\u001b[39;00m \u001b[39mscipy\u001b[39;00m\u001b[39m.\u001b[39;00m\u001b[39mstats\u001b[39;00m \u001b[39mimport\u001b[39;00m norm\n\u001b[1;32m      4\u001b[0m \u001b[39mdef\u001b[39;00m \u001b[39mblack_scholes\u001b[39m(call_put, S, X, T, r, sigma):\n\u001b[1;32m      5\u001b[0m     \u001b[39m\"\"\"\u001b[39;00m\n\u001b[1;32m      6\u001b[0m \u001b[39m    Calculates the price of a European call or put option using the Black-Scholes model.\u001b[39;00m\n\u001b[1;32m      7\u001b[0m \u001b[39m    \u001b[39;00m\n\u001b[0;32m   (...)\u001b[0m\n\u001b[1;32m     17\u001b[0m \u001b[39m        The option price based on the Black-Scholes model.\u001b[39;00m\n\u001b[1;32m     18\u001b[0m \u001b[39m    \"\"\"\u001b[39;00m\n",
      "\u001b[0;31mModuleNotFoundError\u001b[0m: No module named 'scipy'"
     ]
    }
   ],
   "source": [
    "import math\n",
    "from scipy.stats import norm\n",
    "\n",
    "def black_scholes(call_put, S, X, T, r, sigma):\n",
    "    \"\"\"\n",
    "    Calculates the price of a European call or put option using the Black-Scholes model.\n",
    "    \n",
    "    Parameters:\n",
    "        - call_put: 'call' for call option, 'put' for put option\n",
    "        - S: Current price of the underlying asset\n",
    "        - X: Strike price of the option\n",
    "        - T: Time to expiration of the option (in years)\n",
    "        - r: Risk-free interest rate\n",
    "        - sigma: Volatility of the underlying asset's returns\n",
    "    \n",
    "    Returns:\n",
    "        The option price based on the Black-Scholes model.\n",
    "    \"\"\"\n",
    "    d1 = (math.log(S / X) + (r + (sigma**2) / 2) * T) / (sigma * math.sqrt(T))\n",
    "    d2 = d1 - sigma * math.sqrt(T)\n",
    "    \n",
    "    if call_put == 'call':\n",
    "        option_price = S * norm.cdf(d1) - X * math.exp(-r * T) * norm.cdf(d2)\n",
    "    elif call_put == 'put':\n",
    "        option_price = X * math.exp(-r * T) * norm.cdf(-d2) - S * norm.cdf(-d1)\n",
    "    else:\n",
    "        raise ValueError(\"Invalid value for call_put. Must be 'call' or 'put'.\")\n",
    "    \n",
    "    return option_price\n",
    "\n",
    "# Example usage:\n",
    "call_price = black_scholes('call', 100, 110, 1, 0.05, 0.25)\n",
    "put_price = black_scholes('put', 100, 110, 1, 0.05, 0.25)\n",
    "\n",
    "print(\"Call Option Price:\", call_price)\n",
    "print(\"Put Option Price:\", put_price)\n"
   ]
  },
  {
   "attachments": {},
   "cell_type": "markdown",
   "metadata": {},
   "source": [
    "# The Greeks \n",
    "\n",
    "Certainly! Here's a basic explanation of the Greeks in options trading:\n",
    "\n",
    "1. Delta: Delta measures how much the option price changes in relation to a change in the price of the underlying asset. It indicates the sensitivity of the option's value to changes in the underlying asset's price. For example, if a call option has a delta of 0.7, it means that for every $1 increase in the underlying asset's price, the option price would increase by $0.70.\n",
    "\n",
    "2. Gamma: Gamma represents the rate at which the delta of an option changes in response to changes in the price of the underlying asset. It measures the curvature or convexity of the option's delta. A high gamma value indicates that the option's delta can change rapidly, while a low gamma value suggests slower changes.\n",
    "\n",
    "3. Theta: Theta measures how much the option price changes as time passes. It quantifies the time decay of the option's value. As the expiration date approaches, the time value of the option decreases. Theta is usually expressed as a negative value, indicating that the option's value decreases over time.\n",
    "\n",
    "4. Vega: Vega measures the sensitivity of the option price to changes in implied volatility. Implied volatility represents the market's expectation of future price fluctuations. Vega indicates how much the option price will change for every 1% change in implied volatility. Higher Vega values suggest that option prices are more sensitive to changes in volatility.\n",
    "\n",
    "5. Rho: Rho measures the sensitivity of the option price to changes in the risk-free interest rate. It indicates how much the option price will change for every 1% change in the interest rate. Rho is more relevant for options with longer expiration periods, as interest rates have a stronger impact on their value.\n",
    "\n",
    "Understanding the Greeks helps traders assess and manage their options positions. They provide insights into how changes in the underlying asset's price, time, volatility, and interest rates can affect option prices. By analyzing the Greeks, traders can make informed decisions about buying or selling options and adjust their strategies based on their risk and reward objectives."
   ]
  }
 ],
 "metadata": {
  "kernelspec": {
   "display_name": "finance",
   "language": "python",
   "name": "python3"
  },
  "language_info": {
   "codemirror_mode": {
    "name": "ipython",
    "version": 3
   },
   "file_extension": ".py",
   "mimetype": "text/x-python",
   "name": "python",
   "nbconvert_exporter": "python",
   "pygments_lexer": "ipython3",
   "version": "3.9.15"
  },
  "orig_nbformat": 4
 },
 "nbformat": 4,
 "nbformat_minor": 2
}
