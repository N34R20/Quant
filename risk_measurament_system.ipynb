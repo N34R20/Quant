{
 "cells": [
  {
   "attachments": {},
   "cell_type": "markdown",
   "metadata": {},
   "source": [
    "## Aproaches to Risk measurament\n",
    "\n",
    "In finance, there are several methods to measure risk. Here are three commonly used approaches:\n",
    "\n",
    "1. Standard Deviation: Standard deviation measures the variability or dispersion of returns around the average return of an investment. It quantifies the historical volatility of an asset or a portfolio. Higher standard deviation indicates higher risk.\n",
    "\n",
    "2. Beta: Beta measures the sensitivity of an investment's returns to the overall market movements. It indicates how much an investment tends to move in relation to the market. A beta greater than 1 suggests higher volatility than the market, while a beta less than 1 suggests lower volatility.\n",
    "\n",
    "3. Value at Risk (VaR): VaR estimates the potential loss in an investment over a specified time period with a certain level of confidence. For example, a 5% VaR at a one-day time horizon means there is a 5% chance of the investment losing more than the calculated VaR value within a day.\n",
    "\n",
    "It's important to note that these methods have limitations and should be used in conjunction with other risk assessment tools to get a comprehensive understanding of risk in finance."
   ]
  },
  {
   "attachments": {},
   "cell_type": "markdown",
   "metadata": {},
   "source": [
    "# Creating a class Portfolio"
   ]
  },
  {
   "cell_type": "code",
   "execution_count": 1,
   "metadata": {},
   "outputs": [],
   "source": [
    "class Portfolio:\n",
    "    def __init__(self, name):\n",
    "        self.name = name\n",
    "        self.assets = {}\n",
    "    \n",
    "    def add_asset(self, symbol, quantity, price):\n",
    "        self.assets[symbol] = {'quantity': quantity, 'price': price}\n",
    "    \n",
    "    def remove_asset(self, symbol):\n",
    "        del self.assets[symbol]\n",
    "    \n",
    "    def calculate_portfolio_value(self):\n",
    "        total_value = 0\n",
    "        for symbol, asset in self.assets.items():\n",
    "            quantity = asset['quantity']\n",
    "            price = asset['price']\n",
    "            asset_value = quantity * price\n",
    "            total_value += asset_value\n",
    "        return total_value\n",
    "    \n",
    "\n",
    "    def print_portfolio(self):\n",
    "        print(f\"Portfolio: {self.name}\")\n",
    "        print(\"Assets:\")\n",
    "        for symbol, asset in self.assets.items():\n",
    "            quantity = asset['quantity']\n",
    "            price = asset['price']\n",
    "            print(f\"- Symbol: {symbol}, Quantity: {quantity}, Price: {price}\")\n",
    "        total_value = self.calculate_portfolio_value()\n",
    "        print(f\"Total Portfolio Value: {total_value}\")"
   ]
  },
  {
   "attachments": {},
   "cell_type": "markdown",
   "metadata": {},
   "source": [
    "# Statistical Arbitrage\n",
    "\n",
    "Statistical arbitrage is a trading strategy employed in financial markets that aims to profit from pricing inefficiencies or statistical relationships between securities. It involves using quantitative models and statistical analysis to identify mispriced assets or deviations from expected relationships and taking advantage of those opportunities.\n",
    "\n",
    "The basic principle behind statistical arbitrage is that certain relationships between securities tend to be relatively stable over time. These relationships could involve two related assets, such as stocks in the same industry or stocks of a company and its derivative securities (e.g., options or futures). The strategy seeks to identify situations where the relationship between these securities temporarily diverges from its historical or expected pattern.\n",
    "\n",
    "Traders using statistical arbitrage typically employ advanced quantitative techniques, such as statistical modeling, econometrics, and algorithmic trading. They develop models that analyze large amounts of historical data and identify instances where the relationship between securities has deviated significantly. When a mispricing or deviation is detected, the trader may simultaneously buy the undervalued security and sell the overvalued security, aiming to profit from the reversion of the relationship to its normal state.\n",
    "\n",
    "It's important to note that statistical arbitrage involves high-frequency trading and relies heavily on automated systems to execute trades quickly and efficiently. The strategy requires sophisticated quantitative skills, access to real-time market data, and robust risk management to handle potential market fluctuations and minimize exposure to unforeseen risks.\n",
    "\n",
    "## Steps:\n",
    "- The steps involved in implementing a statistical arbitrage strategy can vary depending on the specific approach and market conditions. However, here is a general outline of the key steps typically involved:\n",
    "\n",
    "1. **Identify suitable securities**: Select a set of securities that exhibit a historical or expected statistical relationship. These could be related stocks, pairs of stocks and their derivatives, or any other assets that are known to have a correlation or relationship.\n",
    "\n",
    "2. **Gather historical data**: Collect historical price and other relevant data for the selected securities over a significant time period. The length of the historical data will depend on the strategy and the time horizon you are targeting.\n",
    "\n",
    "3. **Develop a statistical model**: Use quantitative techniques and statistical analysis to develop a model that captures the relationship between the selected securities. This could involve techniques such as cointegration analysis, correlation analysis, regression models, or other statistical methods.\n",
    "\n",
    "4. **Validate the model**: Test the model using historical data to assess its accuracy and effectiveness in identifying pricing inefficiencies or deviations from the expected relationship. This step helps determine if the model is reliable and suitable for the strategy.\n",
    "\n",
    "5. **Set up trading rules**: Define the trading rules based on the signals generated by the statistical model. Determine the threshold for triggering trades, entry and exit points, position sizing, and any risk management parameters. This step involves setting up specific rules and criteria for taking trades based on the identified mispricing or deviation.\n",
    "\n",
    "6. **Implement the strategy**: Deploy the strategy in real-time trading. Monitor the market conditions, track the selected securities, and execute trades based on the signals generated by the model. Automated trading systems or algorithms are often used to execute trades quickly and efficiently.\n",
    "\n",
    "7. **Monitor and adjust**: Continuously monitor the performance of the strategy and make adjustments as necessary. Regularly review the statistical model, refine the trading rules, and adapt to changing market conditions. It's crucial to have a robust risk management framework in place to mitigate potential risks and control exposure.\n",
    "\n",
    "8. **Evaluate and refine**: Analyze the performance of the strategy over time and assess its profitability and risk-adjusted returns. Refine the model, trading rules, or selection criteria based on the observed results to improve the strategy's effectiveness.\n",
    "\n",
    "It's important to note that statistical arbitrage is a complex and sophisticated strategy that requires advanced quantitative skills, expertise in statistical modeling, and access to reliable market data. It also carries inherent risks, and careful risk management is essential to protect against potential losses."
   ]
  },
  {
   "cell_type": "code",
   "execution_count": 3,
   "metadata": {},
   "outputs": [
    {
     "name": "stdout",
     "output_type": "stream",
     "text": [
      "      Asset1    Asset2    Asset3    Asset4    Asset5\n",
      "0   1.764052  0.400157  0.978738  2.240893  1.867558\n",
      "1  -0.977278  0.950088 -0.151357 -0.103219  0.410599\n",
      "2   0.144044  1.454274  0.761038  0.121675  0.443863\n",
      "3   0.333674  1.494079 -0.205158  0.313068 -0.854096\n",
      "4  -2.552990  0.653619  0.864436 -0.742165  2.269755\n",
      "..       ...       ...       ...       ...       ...\n",
      "95  0.994394  1.319137 -0.882419  1.128594  0.496001\n",
      "96  0.771406  1.029439 -0.908763 -0.424318  0.862596\n",
      "97 -2.655619  1.513328  0.553132 -0.045704  0.220508\n",
      "98 -1.029935 -0.349943  1.100284  1.298022  2.696224\n",
      "99 -0.073925 -0.658553 -0.514234 -1.018042 -0.077855\n",
      "\n",
      "[100 rows x 5 columns]\n",
      "        Asset1  Asset2  Asset3  Asset4  Asset5\n",
      "Asset1    1.00   -0.05   -0.10    0.06   -0.10\n",
      "Asset2   -0.05    1.00   -0.11    0.06    0.14\n",
      "Asset3   -0.10   -0.11    1.00    0.01    0.05\n",
      "Asset4    0.06    0.06    0.01    1.00    0.12\n",
      "Asset5   -0.10    0.14    0.05    0.12    1.00\n"
     ]
    }
   ],
   "source": [
    "import pandas as pd\n",
    "import numpy as np\n",
    "\n",
    "# Generate random financial data\n",
    "np.random.seed(0)\n",
    "data = np.random.randn(100, 5)  # 100 observations, 5 assets\n",
    "df = pd.DataFrame(data, columns=['Asset1', 'Asset2', 'Asset3', 'Asset4', 'Asset5'])\n",
    "\n",
    "# Calculate correlation matrix\n",
    "correlation_matrix = df.corr().round(2)\n",
    "\n",
    "print(df)\n",
    "# Display correlation matrix\n",
    "print(correlation_matrix)\n"
   ]
  }
 ],
 "metadata": {
  "kernelspec": {
   "display_name": "finance",
   "language": "python",
   "name": "python3"
  },
  "language_info": {
   "codemirror_mode": {
    "name": "ipython",
    "version": 3
   },
   "file_extension": ".py",
   "mimetype": "text/x-python",
   "name": "python",
   "nbconvert_exporter": "python",
   "pygments_lexer": "ipython3",
   "version": "3.9.15"
  },
  "orig_nbformat": 4
 },
 "nbformat": 4,
 "nbformat_minor": 2
}
