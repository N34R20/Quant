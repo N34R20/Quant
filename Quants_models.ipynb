{
  "nbformat": 4,
  "nbformat_minor": 0,
  "metadata": {
    "colab": {
      "provenance": [],
      "authorship_tag": "ABX9TyMU0ro2GRFbGvU6DG9kqIOC",
      "include_colab_link": true
    },
    "kernelspec": {
      "name": "python3",
      "display_name": "Python 3"
    },
    "language_info": {
      "name": "python"
    }
  },
  "cells": [
    {
      "cell_type": "markdown",
      "metadata": {
        "id": "view-in-github",
        "colab_type": "text"
      },
      "source": [
        "<a href=\"https://colab.research.google.com/github/N34R20/Quant/blob/main/Quants_models.ipynb\" target=\"_parent\"><img src=\"https://colab.research.google.com/assets/colab-badge.svg\" alt=\"Open In Colab\"/></a>"
      ]
    },
    {
      "cell_type": "markdown",
      "source": [
        "# Modelo CAMP\n",
        "\n",
        "En el contexto de las finanzas, el término \"CAMP\" se refiere comúnmente al Modelo de Valoración de Activos de Capital (Capital Asset Pricing Model, en inglés), también conocido como modelo CAPM.\n",
        "\n",
        "El modelo CAPM es una herramienta utilizada para estimar el rendimiento esperado de un activo financiero. Se basa en la premisa de que el rendimiento de un activo está determinado por su riesgo sistemático, es decir, el riesgo que no puede ser eliminado a través de la diversificación. \n",
        "\n",
        "El modelo CAPM establece que el rendimiento esperado de un activo se compone de dos componentes: el rendimiento libre de riesgo, representado típicamente por la tasa de interés de bonos del gobierno, y una prima de riesgo que refleja la compensación adicional que se espera recibir por asumir el riesgo sistemático del activo. Esta prima de riesgo se calcula multiplicando el coeficiente beta del activo (que mide su sensibilidad al riesgo sistemático) por la prima de mercado, que es la diferencia entre el rendimiento esperado del mercado y el rendimiento libre de riesgo.\n",
        "\n",
        "El modelo CAPM es ampliamente utilizado en la valoración de activos financieros, así como en la determinación del costo de capital de una empresa y en la toma de decisiones de inversión. Sin embargo, es importante tener en cuenta que el modelo CAPM tiene sus limitaciones y suposiciones simplificadoras, por lo que se han desarrollado otros enfoques y modelos alternativos en el campo de las finanzas."
      ],
      "metadata": {
        "id": "t5aMC3LHhHxp"
      }
    },
    {
      "cell_type": "code",
      "execution_count": null,
      "metadata": {
        "colab": {
          "base_uri": "https://localhost:8080/"
        },
        "id": "BfwOmiPQNp5I",
        "outputId": "75dadde1-04d5-4507-a179-75fb3ec10721"
      },
      "outputs": [
        {
          "output_type": "stream",
          "name": "stdout",
          "text": [
            "mean: 0.05\n",
            "std: 0.022360679774997897\n",
            "Rendimiento esperado del activo: 0.04\n"
          ]
        }
      ],
      "source": [
        "import numpy as np\n",
        "import pandas as pd\n",
        "\n",
        "# Datos de ejemplo: rendimientos históricos de un activo y del mercado\n",
        "historical_returns = pd.DataFrame({\n",
        "    'Asset': [0.05, 0.08, 0.04, 0.02, 0.06],\n",
        "    'Market': [0.07, 0.06, 0.05, 0.04, 0.03]\n",
        "})\n",
        "\n",
        "# Cálculo de los rendimientos promedio y desviaciones estándar\n",
        "mean_returns = historical_returns.mean()\n",
        "print(f'mean: {mean_returns[0]}')\n",
        "\n",
        "std_returns = historical_returns.std()\n",
        "print(f\"std: {std_returns[0]}\")\n",
        "\n",
        "# Rendimiento libre de riesgo (tasa de bonos del gobierno, por ejemplo)\n",
        "risk_free_rate = 0.03\n",
        "\n",
        "# Cálculo del coeficiente beta\n",
        "asset_beta = np.cov(historical_returns['Asset'], historical_returns['Market'])[0, 1] / np.var(historical_returns['Market'])\n",
        "\n",
        "# Cálculo del rendimiento esperado usando CAPM\n",
        "expected_return = risk_free_rate + asset_beta * (mean_returns['Market'] - risk_free_rate)\n",
        "\n",
        "print(f'Rendimiento esperado del activo: {expected_return:.2f}')\n"
      ]
    },
    {
      "cell_type": "markdown",
      "source": [
        "# Modelo de factores\n",
        "\n",
        "Un modelo de factores financieros, también conocido como modelo de multi-factor o modelo de regresión de factores, es un enfoque utilizado en el análisis de inversiones y gestión de carteras para explicar los rendimientos de los activos financieros en función de varios factores económicos o financieros.\n",
        "\n",
        "En este tipo de modelo, se considera que los rendimientos de los activos están influenciados por factores sistemáticos que representan fuentes comunes de riesgo en el mercado. Estos factores pueden incluir variables macroeconómicas, indicadores de sectores específicos o medidas de estilo de inversión, entre otros.\n",
        "\n",
        "El modelo de factores financieros se basa en la idea de que los rendimientos de los activos pueden descomponerse en una parte sistemática (explicada por los factores) y una parte idiosincrásica (específica del activo). La relación entre los rendimientos del activo y los factores se establece mediante una regresión lineal múltiple.\n",
        "\n",
        "Una vez que se ha estimado el modelo de factores financieros, se pueden obtener conclusiones y aplicaciones relevantes. Por ejemplo, se puede evaluar el riesgo sistemático de un activo o cartera, analizar su sensibilidad a diferentes factores y utilizar esta información para construir estrategias de inversión o gestionar el riesgo.\n",
        "\n",
        "Algunos modelos de factores financieros ampliamente utilizados incluyen el Modelo de Tres Factores de Fama y French, que incorpora los factores de mercado, tamaño de la empresa y relación precio-beneficio, y el Modelo de Cinco Factores de Fama y French, que agrega los factores de inversión y rentabilidad del activo operativo.\n",
        "\n",
        "En resumen, un modelo de factores financieros es una herramienta que busca explicar los rendimientos de los activos en función de factores sistemáticos y proporciona una base para el análisis y la toma de decisiones en inversiones y gestión de carteras."
      ],
      "metadata": {
        "id": "gbtAY8kyhnTB"
      }
    },
    {
      "cell_type": "code",
      "source": [
        "import numpy as np\n",
        "import pandas as pd\n",
        "import statsmodels.api as sm\n",
        "\n",
        "# Datos de ejemplo: rendimientos históricos de activos y factores\n",
        "data = pd.DataFrame({\n",
        "    'Asset1': [0.05, 0.02, 0.06, 0.04, 0.03],\n",
        "    'Asset2': [0.07, 0.08, 0.04, 0.06, 0.01],\n",
        "    'Market': [0.08, 0.06, 0.07, 0.09, 0.05],\n",
        "    'Factor1': [0.03, 0.02, 0.01, 0.02, 0.01],\n",
        "    'Factor2': [0.02, 0.01, 0.03, 0.01, 0.02]\n",
        "})\n",
        "\n",
        "# Separar los datos en variables independientes (factores) y variable dependiente (activos)\n",
        "X = data[['Market', 'Factor1', 'Factor2']]\n",
        "Y = data[['Asset1', 'Asset2']]\n",
        "\n",
        "# Agregar una constante a los factores\n",
        "X = sm.add_constant(X)\n",
        "\n",
        "# Estimar el modelo de regresión lineal múltiple para cada activo por separado\n",
        "results = []\n",
        "for asset in Y.columns:\n",
        "    model = sm.OLS(Y[asset], X)\n",
        "    result = model.fit()\n",
        "    results.append(result)\n",
        "\n",
        "# Imprimir los resultados\n",
        "for i, asset in enumerate(Y.columns):\n",
        "    print(f\"Resultados para {asset}:\")\n",
        "    print(results[i].summary())\n",
        "    print(\"\\n\")\n",
        "\n"
      ],
      "metadata": {
        "colab": {
          "base_uri": "https://localhost:8080/"
        },
        "id": "uAoORD4HiPLS",
        "outputId": "ba5b5eca-2b74-4105-d85d-7a95097965ab"
      },
      "execution_count": null,
      "outputs": [
        {
          "output_type": "stream",
          "name": "stdout",
          "text": [
            "Resultados para Asset1:\n",
            "                            OLS Regression Results                            \n",
            "==============================================================================\n",
            "Dep. Variable:                 Asset1   R-squared:                       1.000\n",
            "Model:                            OLS   Adj. R-squared:                  1.000\n",
            "Method:                 Least Squares   F-statistic:                 1.123e+28\n",
            "Date:                Thu, 18 May 2023   Prob (F-statistic):           6.94e-15\n",
            "Time:                        20:27:35   Log-Likelihood:                 178.42\n",
            "No. Observations:                   5   AIC:                            -348.8\n",
            "Df Residuals:                       1   BIC:                            -350.4\n",
            "Df Model:                           3                                         \n",
            "Covariance Type:            nonrobust                                         \n",
            "==============================================================================\n",
            "                 coef    std err          t      P>|t|      [0.025      0.975]\n",
            "------------------------------------------------------------------------------\n",
            "const         -0.0367   4.75e-16  -7.72e+13      0.000      -0.037      -0.037\n",
            "Market         0.6667   6.63e-15   1.01e+14      0.000       0.667       0.667\n",
            "Factor1     1.089e-15   1.36e-14      0.080      0.949   -1.72e-13    1.74e-13\n",
            "Factor2        1.6667   1.14e-14   1.46e+14      0.000       1.667       1.667\n",
            "==============================================================================\n",
            "Omnibus:                          nan   Durbin-Watson:                   2.554\n",
            "Prob(Omnibus):                    nan   Jarque-Bera (JB):                0.344\n",
            "Skew:                          -0.085   Prob(JB):                        0.842\n",
            "Kurtosis:                       1.726   Cond. No.                         200.\n",
            "==============================================================================\n",
            "\n",
            "Notes:\n",
            "[1] Standard Errors assume that the covariance matrix of the errors is correctly specified.\n",
            "\n",
            "\n",
            "Resultados para Asset2:\n",
            "                            OLS Regression Results                            \n",
            "==============================================================================\n",
            "Dep. Variable:                 Asset2   R-squared:                       0.654\n",
            "Model:                            OLS   Adj. R-squared:                 -0.385\n",
            "Method:                 Least Squares   F-statistic:                    0.6292\n",
            "Date:                Thu, 18 May 2023   Prob (F-statistic):              0.703\n",
            "Time:                        20:27:35   Log-Likelihood:                 14.037\n",
            "No. Observations:                   5   AIC:                            -20.07\n",
            "Df Residuals:                       1   BIC:                            -21.64\n",
            "Df Model:                           3                                         \n",
            "Covariance Type:            nonrobust                                         \n",
            "==============================================================================\n",
            "                 coef    std err          t      P>|t|      [0.025      0.975]\n",
            "------------------------------------------------------------------------------\n",
            "const          0.0144      0.090      0.161      0.899      -1.129       1.158\n",
            "Market         0.2222      1.257      0.177      0.889     -15.750      16.195\n",
            "Factor1        2.0000      2.582      0.775      0.580     -30.807      34.807\n",
            "Factor2       -0.7778      2.166     -0.359      0.781     -28.299      26.743\n",
            "==============================================================================\n",
            "Omnibus:                          nan   Durbin-Watson:                   1.250\n",
            "Prob(Omnibus):                    nan   Jarque-Bera (JB):                0.441\n",
            "Skew:                           0.114   Prob(JB):                        0.802\n",
            "Kurtosis:                       1.563   Cond. No.                         200.\n",
            "==============================================================================\n",
            "\n",
            "Notes:\n",
            "[1] Standard Errors assume that the covariance matrix of the errors is correctly specified.\n",
            "\n",
            "\n"
          ]
        },
        {
          "output_type": "stream",
          "name": "stderr",
          "text": [
            "/usr/local/lib/python3.10/dist-packages/statsmodels/stats/stattools.py:74: ValueWarning: omni_normtest is not valid with less than 8 observations; 5 samples were given.\n",
            "  warn(\"omni_normtest is not valid with less than 8 observations; %i \"\n",
            "/usr/local/lib/python3.10/dist-packages/statsmodels/stats/stattools.py:74: ValueWarning: omni_normtest is not valid with less than 8 observations; 5 samples were given.\n",
            "  warn(\"omni_normtest is not valid with less than 8 observations; %i \"\n"
          ]
        }
      ]
    },
    {
      "cell_type": "markdown",
      "source": [
        "En este ejemplo, se asume que tienes datos históricos de los rendimientos de dos activos (Asset1 y Asset2) y de dos factores financieros (Factor1 y Factor2) para cinco períodos.\n",
        "\n",
        "Se utiliza la clase OLS de statsmodels para estimar el modelo de regresión lineal múltiple. Se separan los datos en las variables independientes (X) que contienen los factores y una constante, y la variable dependiente (Y) que contiene los rendimientos de los activos.\n",
        "\n",
        "Luego, se ajusta el modelo llamando al método fit() y se imprimen los resultados resumidos utilizando el atributo summary().\n",
        "\n",
        "La salida del resumen incluirá información sobre los coeficientes estimados, los errores estándar, los valores t estadísticos y los valores p, entre otros.\n",
        "\n",
        "Recuerda que este es solo un ejemplo básico para ilustrar cómo implementar un modelo de factores financieros en Python. En la práctica, es posible que necesites realizar ajustes adicionales, como considerar la autocorrelación de los errores o realizar pruebas de significancia para los coeficientes."
      ],
      "metadata": {
        "id": "DoL-PBukiWSo"
      }
    },
    {
      "cell_type": "markdown",
      "source": [
        "# Interpretaciones de los resultados del modelo de factores\n",
        "\n",
        "La interpretación de los resultados de un modelo de factores financieros depende de los coeficientes estimados, los errores estándar, los valores t estadísticos y los valores p, entre otros aspectos. Aquí hay algunas pautas generales para interpretar los resultados:\n",
        "\n",
        "1. Coeficientes estimados: Los coeficientes estimados representan la relación entre los factores y los rendimientos de los activos. Un coeficiente positivo indica una relación positiva, mientras que un coeficiente negativo indica una relación negativa. Por ejemplo, un coeficiente positivo para el factor \"Market\" significa que los rendimientos del activo tienden a aumentar cuando el mercado en general tiene un rendimiento positivo.\n",
        "\n",
        "2. Errores estándar: Los errores estándar proporcionan información sobre la precisión de los coeficientes estimados. Cuanto más pequeño sea el error estándar, más precisa será la estimación del coeficiente. Los errores estándar también se utilizan para calcular los intervalos de confianza de los coeficientes.\n",
        "\n",
        "3. Valores t y valores p: Los valores t estadísticos se utilizan para evaluar la significancia estadística de los coeficientes. Un valor t grande (en valor absoluto) indica que el coeficiente es significativamente diferente de cero. Los valores p son una medida relacionada y se utilizan para determinar si el coeficiente es estadísticamente significativo. Generalmente, se considera que un valor p menor a 0.05 o 0.01 indica una significancia estadística.\n",
        "\n",
        "4. R cuadrado (R-squared): El R cuadrado es una medida de ajuste que indica la proporción de la variabilidad de los rendimientos del activo que se explica por los factores incluidos en el modelo. Un R cuadrado más alto sugiere un mejor ajuste del modelo a los datos.\n",
        "\n",
        "Es importante tener en cuenta que la interpretación de los resultados debe considerar el contexto y la teoría subyacente del modelo. Además, es posible que se requieran pruebas adicionales o análisis más detallados para respaldar las conclusiones y sacar inferencias precisas.\n",
        "\n",
        "Recuerda que la interpretación precisa de los resultados puede variar según el contexto específico del modelo y los datos utilizados, por lo que es recomendable consultar con expertos en finanzas o análisis de inversiones para obtener una interpretación más precisa y adecuada a tu caso particular."
      ],
      "metadata": {
        "id": "J3hoJsjjjWJP"
      }
    },
    {
      "cell_type": "markdown",
      "source": [
        "# Class Portfolio \n",
        "\n",
        "In this example, the Portfolio class has the following methods:\n",
        "\n",
        "The __init__ method initializes a new portfolio with a given name and an empty dictionary to store the assets.\n",
        "The add_asset method allows you to add an asset to the portfolio by specifying the symbol, quantity, and price.\n",
        "The remove_asset method removes an asset from the portfolio based on its symbol.\n",
        "The calculate_portfolio_value method calculates the total value of the portfolio by iterating through the assets, multiplying the quantity by the price, and summing up the asset values.\n",
        "The print_portfolio method prints the portfolio's name, all the assets with their quantities and prices, and the total value of the portfolio."
      ],
      "metadata": {
        "id": "jntVZFJPmeZn"
      }
    },
    {
      "cell_type": "code",
      "source": [
        "class Portfolio:\n",
        "    def __init__(self, name):\n",
        "        self.name = name\n",
        "        self.assets = {}\n",
        "    \n",
        "    def add_asset(self, symbol, quantity, price):\n",
        "        self.assets[symbol] = {'quantity': quantity, 'price': price}\n",
        "    \n",
        "    def remove_asset(self, symbol):\n",
        "        del self.assets[symbol]\n",
        "    \n",
        "    def calculate_portfolio_value(self):\n",
        "        total_value = 0\n",
        "        for symbol, asset in self.assets.items():\n",
        "            quantity = asset['quantity']\n",
        "            price = asset['price']\n",
        "            asset_value = quantity * price\n",
        "            total_value += asset_value\n",
        "        return total_value\n",
        "    \n",
        "    def print_portfolio(self):\n",
        "        print(f\"Portfolio: {self.name}\")\n",
        "        print(\"Assets:\")\n",
        "        for symbol, asset in self.assets.items():\n",
        "            quantity = asset['quantity']\n",
        "            price = asset['price']\n",
        "            print(f\"- Symbol: {symbol}, Quantity: {quantity}, Price: {price}\")\n",
        "        total_value = self.calculate_portfolio_value()\n",
        "        print(f\"Total Portfolio Value: {total_value}\")\n"
      ],
      "metadata": {
        "id": "1Y_KIuXomdRV"
      },
      "execution_count": null,
      "outputs": []
    },
    {
      "cell_type": "markdown",
      "source": [
        "Example:"
      ],
      "metadata": {
        "id": "IExnWOtOmm1k"
      }
    },
    {
      "cell_type": "code",
      "source": [
        "# Create a new portfolio\n",
        "my_portfolio = Portfolio(\"My Portfolio\")\n",
        "\n",
        "# Add assets\n",
        "my_portfolio.add_asset(\"AAPL\", 10, 135.50)\n",
        "my_portfolio.add_asset(\"GOOGL\", 5, 2500.75)\n",
        "my_portfolio.add_asset(\"TSLA\", 2, 700.25)\n",
        "\n",
        "# Print the portfolio\n",
        "my_portfolio.print_portfolio()\n",
        "\n",
        "# Remove an asset\n",
        "my_portfolio.remove_asset(\"GOOGL\")\n",
        "\n",
        "# Print the portfolio after removing an asset\n",
        "my_portfolio.print_portfolio()\n"
      ],
      "metadata": {
        "id": "iI8RO-ybmoJZ",
        "outputId": "dd90a7ea-c2d3-4ded-8b53-ef4a887fef4c",
        "colab": {
          "base_uri": "https://localhost:8080/"
        }
      },
      "execution_count": null,
      "outputs": [
        {
          "output_type": "stream",
          "name": "stdout",
          "text": [
            "Portfolio: My Portfolio\n",
            "Assets:\n",
            "- Symbol: AAPL, Quantity: 10, Price: 135.5\n",
            "- Symbol: GOOGL, Quantity: 5, Price: 2500.75\n",
            "- Symbol: TSLA, Quantity: 2, Price: 700.25\n",
            "Total Portfolio Value: 15259.25\n",
            "Portfolio: My Portfolio\n",
            "Assets:\n",
            "- Symbol: AAPL, Quantity: 10, Price: 135.5\n",
            "- Symbol: TSLA, Quantity: 2, Price: 700.25\n",
            "Total Portfolio Value: 2755.5\n"
          ]
        }
      ]
    }
  ]
}